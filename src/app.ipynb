{
 "cells": [
  {
   "cell_type": "markdown",
   "id": "2f0e8b16",
   "metadata": {},
   "source": [
    "# Deteccion de Fraude Machine Learning"
   ]
  },
  {
   "cell_type": "markdown",
   "id": "fd33c7c4",
   "metadata": {},
   "source": [
    "**Importamos los paquetes necesarios**"
   ]
  },
  {
   "cell_type": "code",
   "execution_count": null,
   "id": "9ddd2b72",
   "metadata": {
    "vscode": {
     "languageId": "plaintext"
    }
   },
   "outputs": [],
   "source": []
  }
 ],
 "metadata": {
  "language_info": {
   "name": "python"
  }
 },
 "nbformat": 4,
 "nbformat_minor": 5
}
