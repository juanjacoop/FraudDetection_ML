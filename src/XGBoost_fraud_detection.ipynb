{
 "cells": [
  {
   "cell_type": "code",
   "execution_count": 1,
   "id": "1ecde929",
   "metadata": {},
   "outputs": [],
   "source": [
    "import os\n",
    "import zipfile\n",
    "import pandas as pd\n",
    "import numpy as np\n",
    "import matplotlib.pyplot as plt\n",
    "import seaborn as sns\n",
    "#import statsmodels.api as sm\n",
    "\n",
    "from scipy.stats import chi2_contingency\n",
    "from scipy.stats import f_oneway\n",
    "from scipy import stats"
   ]
  },
  {
   "cell_type": "code",
   "execution_count": 2,
   "id": "7ad50dbc",
   "metadata": {},
   "outputs": [
    {
     "ename": "FileNotFoundError",
     "evalue": "[Errno 2] No such file or directory: '../data/in/Fraud_Detction_Dataset.zip'",
     "output_type": "error",
     "traceback": [
      "\u001b[31m---------------------------------------------------------------------------\u001b[39m",
      "\u001b[31mFileNotFoundError\u001b[39m                         Traceback (most recent call last)",
      "\u001b[36mCell\u001b[39m\u001b[36m \u001b[39m\u001b[32mIn[2]\u001b[39m\u001b[32m, line 28\u001b[39m\n\u001b[32m     25\u001b[39m     \u001b[38;5;66;03m# Leer el archivo CSV en un DataFrame\u001b[39;00m\n\u001b[32m     26\u001b[39m     \u001b[38;5;28;01mreturn\u001b[39;00m pd.read_csv(file_path)\n\u001b[32m---> \u001b[39m\u001b[32m28\u001b[39m \u001b[43mfetch_data\u001b[49m\u001b[43m(\u001b[49m\u001b[43m)\u001b[49m\n\u001b[32m     29\u001b[39m df = load_data()\n",
      "\u001b[36mCell\u001b[39m\u001b[36m \u001b[39m\u001b[32mIn[2]\u001b[39m\u001b[32m, line 12\u001b[39m, in \u001b[36mfetch_data\u001b[39m\u001b[34m(input_path, output_dir)\u001b[39m\n\u001b[32m     10\u001b[39m \u001b[38;5;66;03m# Descomprime el archivo ZIP en caso de que no haya ningún csv en la carpeta\u001b[39;00m\n\u001b[32m     11\u001b[39m \u001b[38;5;28;01mif\u001b[39;00m(\u001b[38;5;28mlen\u001b[39m([file \u001b[38;5;28;01mfor\u001b[39;00m file \u001b[38;5;129;01min\u001b[39;00m os.listdir(output_dir) \u001b[38;5;28;01mif\u001b[39;00m file.endswith(\u001b[33m'\u001b[39m\u001b[33m.csv\u001b[39m\u001b[33m'\u001b[39m)]) == \u001b[32m0\u001b[39m):\n\u001b[32m---> \u001b[39m\u001b[32m12\u001b[39m     \u001b[38;5;28;01mwith\u001b[39;00m \u001b[43mzipfile\u001b[49m\u001b[43m.\u001b[49m\u001b[43mZipFile\u001b[49m\u001b[43m(\u001b[49m\u001b[43minput_path\u001b[49m\u001b[43m,\u001b[49m\u001b[43m \u001b[49m\u001b[33;43m'\u001b[39;49m\u001b[33;43mr\u001b[39;49m\u001b[33;43m'\u001b[39;49m\u001b[43m)\u001b[49m \u001b[38;5;28;01mas\u001b[39;00m zip_ref:\n\u001b[32m     13\u001b[39m         zip_ref.extractall(output_dir)\n",
      "\u001b[36mFile \u001b[39m\u001b[32mc:\\Users\\Victor Casas\\.conda\\envs\\pml\\Lib\\zipfile\\__init__.py:1367\u001b[39m, in \u001b[36mZipFile.__init__\u001b[39m\u001b[34m(self, file, mode, compression, allowZip64, compresslevel, strict_timestamps, metadata_encoding)\u001b[39m\n\u001b[32m   1365\u001b[39m \u001b[38;5;28;01mwhile\u001b[39;00m \u001b[38;5;28;01mTrue\u001b[39;00m:\n\u001b[32m   1366\u001b[39m     \u001b[38;5;28;01mtry\u001b[39;00m:\n\u001b[32m-> \u001b[39m\u001b[32m1367\u001b[39m         \u001b[38;5;28mself\u001b[39m.fp = \u001b[43mio\u001b[49m\u001b[43m.\u001b[49m\u001b[43mopen\u001b[49m\u001b[43m(\u001b[49m\u001b[43mfile\u001b[49m\u001b[43m,\u001b[49m\u001b[43m \u001b[49m\u001b[43mfilemode\u001b[49m\u001b[43m)\u001b[49m\n\u001b[32m   1368\u001b[39m     \u001b[38;5;28;01mexcept\u001b[39;00m \u001b[38;5;167;01mOSError\u001b[39;00m:\n\u001b[32m   1369\u001b[39m         \u001b[38;5;28;01mif\u001b[39;00m filemode \u001b[38;5;129;01min\u001b[39;00m modeDict:\n",
      "\u001b[31mFileNotFoundError\u001b[39m: [Errno 2] No such file or directory: '../data/in/Fraud_Detction_Dataset.zip'"
     ]
    }
   ],
   "source": [
    "INPUT_ZIP = \"../data/in/Fraud_Detction_Dataset.zip\"  # Directorio del zip\n",
    "OUTPUT_FOLDER = \"../data/out/\"  # Directorio de destino\n",
    "TRAIN_FILENAME = \"creditcard.csv\"  # Nombre del fichero de entrenamiento\n",
    "\n",
    "def fetch_data(input_path=INPUT_ZIP, output_dir=OUTPUT_FOLDER):\n",
    "    \n",
    "    # Comprobación de que el directorio de destino existe\n",
    "    os.makedirs(output_dir, exist_ok=True)\n",
    "\n",
    "    # Descomprime el archivo ZIP en caso de que no haya ningún csv en la carpeta\n",
    "    if(len([file for file in os.listdir(output_dir) if file.endswith('.csv')]) == 0):\n",
    "        with zipfile.ZipFile(input_path, 'r') as zip_ref:\n",
    "            zip_ref.extractall(output_dir)\n",
    "\n",
    "\n",
    "def load_data(directory=OUTPUT_FOLDER, filename=TRAIN_FILENAME):\n",
    "\n",
    "    # Construir la ruta completa al archivo CSV\n",
    "    file_path = os.path.join(directory, filename)\n",
    "\n",
    "    # Verificar si el archivo existe\n",
    "    if not os.path.exists(file_path):\n",
    "        raise FileNotFoundError(f\"El archivo {filename} no se encuentra en el directorio {directory}\")\n",
    "\n",
    "    # Leer el archivo CSV en un DataFrame\n",
    "    return pd.read_csv(file_path)\n",
    "\n",
    "fetch_data()\n",
    "df = load_data()"
   ]
  },
  {
   "cell_type": "code",
   "execution_count": null,
   "id": "79368e50",
   "metadata": {},
   "outputs": [],
   "source": [
    "from sklearn.model_selection import train_test_split, GridSearchCV, RandomizedSearchCV, learning_curve\n",
    "from sklearn.metrics import accuracy_score, precision_score, recall_score, f1_score, confusion_matrix, classification_report, roc_auc_score, roc_curve\n",
    "\n"
   ]
  },
  {
   "cell_type": "code",
   "execution_count": null,
   "id": "d967e176",
   "metadata": {},
   "outputs": [],
   "source": [
    "# Filtrar los datos eliminando los valores atípicos excepto para 'Class' igual a 1\n",
    "\n",
    "Q1 = df.quantile(0.25)\n",
    "Q3 = df.quantile(0.75)\n",
    "IQR = Q3 - Q1\n",
    "df_cleaned = df[\n",
    "    (df['Class'] == 1) | \n",
    "    ~((df < (Q1 - 1.5 * IQR)) | (df > (Q3 + 1.5 * IQR))).any(axis=1)\n",
    "]\n",
    "\n",
    "# Mostrar el nuevo DataFrame sin valores atípicos\n",
    "df_cleaned"
   ]
  },
  {
   "cell_type": "code",
   "execution_count": null,
   "id": "f53e8ad1",
   "metadata": {},
   "outputs": [],
   "source": [
    "def crear_datasets (datos, porc_entrena, porc_prueba, porc_valida): \n",
    "  tamaño_prueba=(porc_prueba+porc_valida)/(porc_entrena+porc_prueba+porc_valida) \n",
    "  data_entrena, data_test = train_test_split(datos, test_size=tamaño_prueba,random_state=42,shuffle=True) \n",
    "  tamaño_prueba=porc_valida/(porc_prueba+porc_valida) \n",
    "  data_prueba, data_valida=train_test_split(data_test,test_size=tamaño_prueba,random_state=42,shuffle=True) \n",
    "  return data_entrena, data_prueba, data_valida "
   ]
  }
 ],
 "metadata": {
  "kernelspec": {
   "display_name": "Python 3",
   "language": "python",
   "name": "python3"
  },
  "language_info": {
   "codemirror_mode": {
    "name": "ipython",
    "version": 3
   },
   "file_extension": ".py",
   "mimetype": "text/x-python",
   "name": "python",
   "nbconvert_exporter": "python",
   "pygments_lexer": "ipython3",
   "version": "3.13.2"
  }
 },
 "nbformat": 4,
 "nbformat_minor": 5
}
